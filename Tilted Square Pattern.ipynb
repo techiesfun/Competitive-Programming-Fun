{
 "cells": [
  {
   "cell_type": "markdown",
   "id": "f1b15430-426c-469b-8682-06a591ce1dd5",
   "metadata": {},
   "source": [
    "# Problem Statement"
   ]
  },
  {
   "cell_type": "markdown",
   "id": "cea6376b-9d2c-404b-8e51-ef88521b2955",
   "metadata": {},
   "source": [
    "## Draw Tilted Square of size \"n\" using python programming language where 0 >= n <= 10^3\n",
    "## Example:\n",
    "## For Input of n = 5\n",
    "## Its Corresponding Output is displayed below"
   ]
  },
  {
   "cell_type": "raw",
   "id": "328e59a3-f6b0-477b-b34e-79e064e4d72f",
   "metadata": {},
   "source": [
    "            *\n",
    "          *   *\n",
    "        *   *   *\n",
    "      *   *   *   *  \n",
    "    *   *   *   *   *\n",
    "      *   *   *   *  \n",
    "        *   *   *\n",
    "          *   *   \n",
    "            *"
   ]
  },
  {
   "cell_type": "markdown",
   "id": "db333860-fba2-43f4-95ad-cf211a20c1a8",
   "metadata": {},
   "source": [
    "# Solution"
   ]
  },
  {
   "cell_type": "markdown",
   "id": "8336526c-2c21-435f-acf4-64928c36d2c8",
   "metadata": {},
   "source": [
    "# Design and Analysis\n",
    "            *           row = 1   No. of Stars = 1     No. of Blank space = 8\n",
    "          *   *         row = 2   No. of Stars = 2     No. of Blank space = 6\n",
    "        *   *   *       row = 3   No. of Stars = 3     No. of Blank space = 4\n",
    "      *   *   *   *     row = 4   No. of Stars = 4     No. of Blank space = 2\n",
    "    *   *   *   *   *   row = 5   No. of Stars = 5     No. of Blank space = 0     ------> middle row\n",
    "      *   *   *   *     row = 6   No. of Stars = 4     No. of Blank space = 2\n",
    "        *   *   *       row = 7   No. of Start = 3     No. of Blank space = 4\n",
    "          *   *         row = 8   No. of Start = 2     No. of Blank space = 6\n",
    "            *           row = 9   No. of Start = 1     No. of Blank space = 8\n",
    "## 1) For input n, the number of rows and columns in the output are n + (n-1) and n + (n-1)\n",
    "##    Example: if n = 5, then no. of rows = 5 + (5 - 1) = 9 and no. of columns = 5 + (5 - 1) = 9\n",
    "##\n",
    "## 2) Assume row with 5 stars as middle row, Such that, the rows above and below the middle row are reverse to each other\n",
    "##    Example: No. of stars in each row in pattern of n = 5 is 1 2 3 4 5 4 3 2 1\n",
    "##\n",
    "## 3) Therefore No. of iteration required to plot half of the pattern is 5\n",
    "##    Rest of the rows(below middle) can be completed by appending the reverse of first half\n",
    "##\n",
    "## 4) To approximately get the view of square appropriate no. of blank spaces are left before, after and between the stars as well\n",
    "##    In this way, It is observed that 3 blank spaces are left between stars\n",
    "##    if the spaces are not left, shape will go like the one displayed below,\n",
    "      *\n",
    "      **\n",
    "      ***\n",
    "      ****\n",
    "      *****\n",
    "##\n",
    "## 5) No. of blank spaces left before and after star(s) for tilted square pattern of size 5 is 8,6,4,2,0,2,4,6,8\n",
    "##\n",
    "## 6) W. K. T. We are going to iterate and draw only the first half(till midddle row). \n",
    "##    In this way, it is observed that, no. of stars in each from first to middle row is equal to row number.\n",
    "##    Therefore, we will start iterating from i = 1 to n+1\n",
    "##\n",
    "## 7) With the above assumption in mind, let's try to correlate i value with the no. of blank spaces in each row\n",
    "##    No. of blank spaces in row is 8, how to bring this 8 when i = 1 ?\n",
    "##    It is observed that no. of blank space in row 1 to 5 is respecting multiplication table 2. For row 1, 4 * 2 = 8 blank spaces\n",
    "##    Since multiplication table 2 is respected in each row from 1 to 5, we should keep 2 as constant in the above 4 * 2 formula\n",
    "##\n",
    "## 8) Now let's think, when i = 1, how to bring the 4 in 4 * 2 formula?\n",
    "##    Input of Size n - i = 5 - 1 = 4\n",
    "##    \n",
    "## 9) Therefore, No. of blank spaces in left and right of star(s) = (n - i) * 2\n",
    "##\n",
    "## 10) Now let's check if this formula produces the same no. of blank space in rows from 1 to 5\n",
    "##     for constant n = 5 for every row;\n",
    "##     when i = 1; (n - i) * 2 = (5 - 1) * 2 = 8\n",
    "##          i = 2; (n - i) * 2 = (5 - 2) * 2 = 6\n",
    "##          i = 3; (n - i) * 2 = (5 - 3) * 2 = 4\n",
    "##          i = 4; (n - i) * 2 = (5 - 4) * 2 = 2\n",
    "##          i = 5; (n - i) * 2 = (5 - 5) * 2 = 0\n",
    "##      Therefore the formula work for every i from 1 to 5. So let's proceed further\n",
    "##  11) Since we plan to reduce the for looping, we should not use print (print do not store pattern) in every iteration from 1 to 5 as we want to reverse the first half pattern to produce second half\n",
    "##   \n",
    "##  12) let initialise a variable \"pattern\" and store the pattern generated in each iteration with a '\\n' at the end of the string produced at each iteration\n",
    "##\n",
    "##  13) We should produce stars with 3X blank space to match the shape\n",
    "##\n",
    "##   By keeping every observation from this design and analysis in our mind, let's code now"
   ]
  },
  {
   "cell_type": "markdown",
   "id": "42fd09b4-1516-48bd-924a-98a2fbf00c96",
   "metadata": {},
   "source": [
    "## Method 1:  Code without recursion"
   ]
  },
  {
   "cell_type": "markdown",
   "id": "2ed5f833-3b13-456c-9051-cca0bb036279",
   "metadata": {},
   "source": [
    "## Get Square size n "
   ]
  },
  {
   "cell_type": "code",
   "execution_count": 136,
   "id": "6462f462-82f5-4c15-8fb8-1b6f2e46731a",
   "metadata": {},
   "outputs": [
    {
     "name": "stdin",
     "output_type": "stream",
     "text": [
      "Enter Square Size:  5\n"
     ]
    }
   ],
   "source": [
    "square_size = int(input(\"Enter Square Size: \")) # real  code"
   ]
  },
  {
   "cell_type": "markdown",
   "id": "47051f55-5ccf-4841-beae-d7293a751466",
   "metadata": {},
   "source": [
    "## Initialize variable as string to store pattern"
   ]
  },
  {
   "cell_type": "code",
   "execution_count": 137,
   "id": "3fb3f28a-551d-48ae-a8da-6d897a0639f2",
   "metadata": {},
   "outputs": [],
   "source": [
    "pattern = '' # real code"
   ]
  },
  {
   "cell_type": "markdown",
   "id": "07100aee-37d4-465e-9977-eff778c71138",
   "metadata": {},
   "source": [
    "## for loop to iterate from 1 to 5"
   ]
  },
  {
   "cell_type": "code",
   "execution_count": null,
   "id": "ac9365b3-5350-4c17-a760-2b6e4c01639f",
   "metadata": {},
   "outputs": [],
   "source": [
    "for i in range(1,square_size + 1): # real code\n",
    "    ## code....\n",
    "    ## code...."
   ]
  },
  {
   "cell_type": "markdown",
   "id": "3d5d6580-5f5e-4e99-bb18-9b70fd53abbf",
   "metadata": {},
   "source": [
    "## Calculate Left Righ Blank Space using the formula formulated in Step 9 of Design and Analysis\n",
    "## assume i = 1 now to individually execute this line of code to have clarity"
   ]
  },
  {
   "cell_type": "code",
   "execution_count": 152,
   "id": "15d7b1e4-8b43-4c94-b3d8-da24b9ccf499",
   "metadata": {},
   "outputs": [
    {
     "name": "stdout",
     "output_type": "stream",
     "text": [
      "8\n"
     ]
    }
   ],
   "source": [
    "i = 1 # at iteration 1\n",
    "\n",
    "# real code\n",
    "left_right_blank_spaces = int(square_size - i) * 2 #real code\n",
    "\n",
    "print(left_right_blank_spaces) # this line is to view and understand only"
   ]
  },
  {
   "cell_type": "markdown",
   "id": "8eba6d58-4dc2-4424-a76c-bdef4af721b7",
   "metadata": {},
   "source": [
    "## Generate i number of stars\n",
    "## \",\" is used to split and replace that with 3X blank space as observed in Step 4 of Dessign and Analysis\n",
    "## assume i = 2"
   ]
  },
  {
   "cell_type": "code",
   "execution_count": 153,
   "id": "07c983a0-d972-4f5e-86d8-5fe6568b1429",
   "metadata": {},
   "outputs": [
    {
     "name": "stdout",
     "output_type": "stream",
     "text": [
      "*,*,\n"
     ]
    }
   ],
   "source": [
    "i = 2 # at iteration 2\n",
    "\n",
    "stars = '*,' * i # real code\n",
    "\n",
    "print(stars) # this line is to view and understand only"
   ]
  },
  {
   "cell_type": "markdown",
   "id": "af9e180c-fac4-4b4a-80ed-1faf1af32f90",
   "metadata": {},
   "source": [
    "## Generate pattern of the corresponding row\n",
    "## assume pattern and i, calc corres. left_right_blank_spaces "
   ]
  },
  {
   "cell_type": "code",
   "execution_count": 156,
   "id": "9a17ae70-ee30-44fa-a1f6-383c8cda56f6",
   "metadata": {},
   "outputs": [
    {
     "name": "stdout",
     "output_type": "stream",
     "text": [
      "prev. pattern:         *        \n",
      "\n",
      "\n",
      "Output of ' ' * left_right_blank_spaces is        \n",
      "\n",
      "Output of stars.replace(',','   ')[:-3] is  *   *\n",
      "\n",
      "Output of ' ' * left_right_blank_spaces is        \n",
      "\n",
      "New_pattern from i = 2 is\n",
      "        *        \n",
      "      *   *      \n",
      "\n"
     ]
    }
   ],
   "source": [
    "i = 2 # at iteration 2\n",
    "pattern = '        *        \\n' # output from iteration 1\n",
    "left_right_blank_spaces = int(square_size - i) * 2\n",
    "stars = '*,' * i\n",
    "print('prev. pattern:',pattern) # this line is to view and understand only\n",
    "print(\"\\nOutput of ' ' * left_right_blank_spaces is \",' ' * left_right_blank_spaces) # this line is to view and understand only\n",
    "print(\"\\nOutput of stars.replace(',','   ')[:-3] is \",stars.replace(',','   ')[:-3]) # this line is to view and understand only\n",
    "print(\"\\nOutput of ' ' * left_right_blank_spaces is \",' ' * left_right_blank_spaces) # this line is to view and understand only\n",
    "\n",
    "# real code\n",
    "pattern = ''.join([pattern, ' ' * left_right_blank_spaces, stars.replace(',','   ')[:-3], ' ' * left_right_blank_spaces, '\\n']) # real code\n",
    "#                      |               |                     |                                                    |\n",
    "#                      |               V                     |                                                    V\n",
    "#                      V         left blank spaces           V                                             right blank spaces\n",
    "#     pattern from prev. iteration     To replace , with 3X space and remove extra space at the end of the string     \n",
    "print('\\nNew_pattern from i = 2 is') # this line is to view and understand only\n",
    "print(pattern) # this line is to view and understand only"
   ]
  },
  {
   "cell_type": "markdown",
   "id": "a1f00432-a6fc-4e40-8d28-70069a6c2b65",
   "metadata": {},
   "source": [
    "## Condition to reverse and print final pattern at once when i is equal to 5"
   ]
  },
  {
   "cell_type": "code",
   "execution_count": null,
   "id": "0bb2054c-33fb-4d34-aaaa-ec61bfda2959",
   "metadata": {},
   "outputs": [],
   "source": [
    "if i == square_size: # real code"
   ]
  },
  {
   "cell_type": "markdown",
   "id": "a75a25ce-7646-403e-a3c7-4d5c6272e974",
   "metadata": {},
   "source": [
    "## Reverse code to produce second half of pattern from first half till middle row (reverse operation using list slicing is implemented here)"
   ]
  },
  {
   "cell_type": "code",
   "execution_count": null,
   "id": "45ac8a20-cd68-448f-8c79-ea2866d9c4af",
   "metadata": {},
   "outputs": [],
   "source": [
    "# real code\n",
    "pattern = ''.join([pattern, '\\n'.join(pattern.split('\\n')[:-2][::-1])])"
   ]
  },
  {
   "cell_type": "markdown",
   "id": "5e33e238-0ff1-414d-9e37-1fce78bc5399",
   "metadata": {},
   "source": [
    "## To print final pattern at once at the end"
   ]
  },
  {
   "cell_type": "code",
   "execution_count": 159,
   "id": "6b186e00-aab2-4fdc-9a95-8dc62d4193af",
   "metadata": {},
   "outputs": [],
   "source": [
    "print(pattern) # real code"
   ]
  },
  {
   "cell_type": "markdown",
   "id": "b7fad970-a15e-4c88-9ff4-14b320f88ebd",
   "metadata": {},
   "source": [
    "# Initialise all looping variables such as i, pattern and then, individually execute & to print the output to understand or construct any code clearly"
   ]
  },
  {
   "cell_type": "markdown",
   "id": "dcee036d-261b-403b-98ca-cb6dc506a242",
   "metadata": {},
   "source": [
    "## Fair Code: Putting all the above constructed piece of codes"
   ]
  },
  {
   "cell_type": "code",
   "execution_count": 164,
   "id": "dfa9c18f-eae0-4446-9fc0-52501660eece",
   "metadata": {},
   "outputs": [
    {
     "name": "stdin",
     "output_type": "stream",
     "text": [
      "Enter Square Size:  8\n"
     ]
    },
    {
     "name": "stdout",
     "output_type": "stream",
     "text": [
      "              *              \n",
      "            *   *            \n",
      "          *   *   *          \n",
      "        *   *   *   *        \n",
      "      *   *   *   *   *      \n",
      "    *   *   *   *   *   *    \n",
      "  *   *   *   *   *   *   *  \n",
      "*   *   *   *   *   *   *   *\n",
      "  *   *   *   *   *   *   *  \n",
      "    *   *   *   *   *   *    \n",
      "      *   *   *   *   *      \n",
      "        *   *   *   *        \n",
      "          *   *   *          \n",
      "            *   *            \n",
      "              *              \n"
     ]
    }
   ],
   "source": [
    "square_size = int(input('Enter Square Size: '))\n",
    "pattern = ''\n",
    "for i in range(1,square_size + 1):\n",
    "    left_right_blank_spaces = int(square_size - i) * 2\n",
    "    stars = '*,' * i\n",
    "    pattern = ''.join([pattern, ' ' * left_right_blank_spaces,stars.replace(',','   ')[:-3], ' ' * left_right_blank_spaces, '\\n'])\n",
    "    if i == square_size:\n",
    "        pattern = ''.join([pattern, '\\n'.join(pattern.split('\\n')[:-2][::-1])])\n",
    "        print(pattern)"
   ]
  },
  {
   "cell_type": "markdown",
   "id": "a77be040-382f-4949-b59a-2253e7f6851f",
   "metadata": {},
   "source": [
    "## Mehod 2: Code with Recursion"
   ]
  },
  {
   "cell_type": "code",
   "execution_count": 165,
   "id": "9344ffd9-9d83-4925-b303-e6ae92f78777",
   "metadata": {},
   "outputs": [],
   "source": [
    "def draw(pattern = '', square_size = 5, i = 1):\n",
    "    left_right_blank_spaces = int(square_size - i) * 2\n",
    "    star = '*,' * i\n",
    "    pattern = ''.join([pattern, ' ' * left_right_blank_spaces,'   '.join(star.split(',')[:-1]), ' ' * left_right_blank_spaces, '\\n'])\n",
    "    i+=1\n",
    "    if i <= square_size:\n",
    "        pattern = draw(pattern = pattern, square_size = square_size, i = i)\n",
    "    if i > square_size:\n",
    "        pattern = ''.join([pattern, '\\n'.join(pattern.split('\\n')[:-2][::-1])])\n",
    "    return pattern\n",
    "        "
   ]
  },
  {
   "cell_type": "code",
   "execution_count": 166,
   "id": "c3f491c5-0be4-4364-9985-cd8d93528860",
   "metadata": {},
   "outputs": [
    {
     "name": "stdin",
     "output_type": "stream",
     "text": [
      "Enter Square Size:  15\n"
     ]
    },
    {
     "name": "stdout",
     "output_type": "stream",
     "text": [
      "                            *                            \n",
      "                          *   *                          \n",
      "                        *   *   *                        \n",
      "                      *   *   *   *                      \n",
      "                    *   *   *   *   *                    \n",
      "                  *   *   *   *   *   *                  \n",
      "                *   *   *   *   *   *   *                \n",
      "              *   *   *   *   *   *   *   *              \n",
      "            *   *   *   *   *   *   *   *   *            \n",
      "          *   *   *   *   *   *   *   *   *   *          \n",
      "        *   *   *   *   *   *   *   *   *   *   *        \n",
      "      *   *   *   *   *   *   *   *   *   *   *   *      \n",
      "    *   *   *   *   *   *   *   *   *   *   *   *   *    \n",
      "  *   *   *   *   *   *   *   *   *   *   *   *   *   *  \n",
      "*   *   *   *   *   *   *   *   *   *   *   *   *   *   *\n",
      "  *   *   *   *   *   *   *   *   *   *   *   *   *   *  \n",
      "    *   *   *   *   *   *   *   *   *   *   *   *   *    \n",
      "      *   *   *   *   *   *   *   *   *   *   *   *      \n",
      "        *   *   *   *   *   *   *   *   *   *   *        \n",
      "          *   *   *   *   *   *   *   *   *   *          \n",
      "            *   *   *   *   *   *   *   *   *            \n",
      "              *   *   *   *   *   *   *   *              \n",
      "                *   *   *   *   *   *   *                \n",
      "                  *   *   *   *   *   *                  \n",
      "                    *   *   *   *   *                    \n",
      "                      *   *   *   *                      \n",
      "                        *   *   *                        \n",
      "                          *   *                          \n",
      "                            *                            \n"
     ]
    }
   ],
   "source": [
    "print(draw(square_size=int(input(\"Enter Square Size: \"))))"
   ]
  },
  {
   "cell_type": "code",
   "execution_count": null,
   "id": "7523a2d1-4629-442f-abd2-f1fbd3efe618",
   "metadata": {},
   "outputs": [],
   "source": []
  }
 ],
 "metadata": {
  "kernelspec": {
   "display_name": "Python 3",
   "language": "python",
   "name": "python3"
  },
  "language_info": {
   "codemirror_mode": {
    "name": "ipython",
    "version": 3
   },
   "file_extension": ".py",
   "mimetype": "text/x-python",
   "name": "python",
   "nbconvert_exporter": "python",
   "pygments_lexer": "ipython3",
   "version": "3.8.8"
  }
 },
 "nbformat": 4,
 "nbformat_minor": 5
}
